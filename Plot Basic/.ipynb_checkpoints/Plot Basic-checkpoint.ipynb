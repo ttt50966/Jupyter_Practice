{
 "cells": [
  {
   "cell_type": "markdown",
   "metadata": {},
   "source": [
    "# Plot the data using pandas and matplotlib\n",
    "catch the data using pandas package  \n",
    "and change dataframe to array"
   ]
  },
  {
   "cell_type": "code",
   "execution_count": 1,
   "metadata": {},
   "outputs": [
    {
     "data": {
      "text/plain": [
       "array([[ -8.00000000e+00,  -1.14600000e+03],\n",
       "       [ -7.84000000e+00,  -1.12870000e+03],\n",
       "       [ -7.68000000e+00,  -1.10660000e+03],\n",
       "       [ -7.52000000e+00,  -1.08380000e+03],\n",
       "       [ -7.36000000e+00,  -1.06090000e+03],\n",
       "       [ -7.20000000e+00,  -1.03790000e+03],\n",
       "       [ -7.04000000e+00,  -1.01490000e+03],\n",
       "       [ -6.88000000e+00,  -9.92400000e+02],\n",
       "       [ -6.72000000e+00,  -9.69300000e+02],\n",
       "       [ -6.56000000e+00,  -9.46300000e+02],\n",
       "       [ -6.40000000e+00,  -9.23200000e+02],\n",
       "       [ -6.24000000e+00,  -9.00000000e+02],\n",
       "       [ -6.08000000e+00,  -8.76800000e+02],\n",
       "       [ -5.92000000e+00,  -8.53600000e+02],\n",
       "       [ -5.76000000e+00,  -8.30400000e+02],\n",
       "       [ -5.60000000e+00,  -8.07100000e+02],\n",
       "       [ -5.44000000e+00,  -7.84300000e+02],\n",
       "       [ -5.28000000e+00,  -7.61000000e+02],\n",
       "       [ -5.12000000e+00,  -7.37700000e+02],\n",
       "       [ -4.96000000e+00,  -7.14400000e+02],\n",
       "       [ -4.80000000e+00,  -6.91000000e+02],\n",
       "       [ -4.64000000e+00,  -6.67600000e+02],\n",
       "       [ -4.48000000e+00,  -6.44200000e+02],\n",
       "       [ -4.32000000e+00,  -6.20800000e+02],\n",
       "       [ -4.16000000e+00,  -5.97400000e+02],\n",
       "       [ -4.00000000e+00,  -5.73900000e+02],\n",
       "       [ -3.84000000e+00,  -5.50900000e+02],\n",
       "       [ -3.68000000e+00,  -5.27500000e+02],\n",
       "       [ -3.52000000e+00,  -5.04000000e+02],\n",
       "       [ -3.36000000e+00,  -4.80500000e+02],\n",
       "       [ -3.20000000e+00,  -4.57000000e+02],\n",
       "       [ -3.04000000e+00,  -4.33400000e+02],\n",
       "       [ -2.88000000e+00,  -4.09900000e+02],\n",
       "       [ -2.72000000e+00,  -3.86300000e+02],\n",
       "       [ -2.56000000e+00,  -3.62800000e+02],\n",
       "       [ -2.40000000e+00,  -3.39700000e+02],\n",
       "       [ -2.24000000e+00,  -3.16100000e+02],\n",
       "       [ -2.08000000e+00,  -2.92500000e+02],\n",
       "       [ -1.92000000e+00,  -2.68900000e+02],\n",
       "       [ -1.76000000e+00,  -2.45300000e+02],\n",
       "       [ -1.60000000e+00,  -2.21700000e+02],\n",
       "       [ -1.44000000e+00,  -1.98080000e+02],\n",
       "       [ -1.28000000e+00,  -1.74450000e+02],\n",
       "       [ -1.12000000e+00,  -1.50810000e+02],\n",
       "       [ -9.60000000e-01,  -1.27170000e+02],\n",
       "       [ -8.00000000e-01,  -1.03990000e+02],\n",
       "       [ -6.40000000e-01,  -8.03300000e+01],\n",
       "       [ -4.80000000e-01,  -5.66600000e+01],\n",
       "       [ -3.20000000e-01,  -3.29600000e+01],\n",
       "       [ -1.60000000e-01,  -9.26900000e+00],\n",
       "       [  0.00000000e+00,   1.44560000e+01],\n",
       "       [  1.60000000e-01,   3.81600000e+01],\n",
       "       [  3.20000000e-01,   6.18700000e+01],\n",
       "       [  4.80000000e-01,   8.51100000e+01],\n",
       "       [  6.40000000e-01,   1.08800000e+02],\n",
       "       [  8.00000000e-01,   1.32490000e+02],\n",
       "       [  9.60000000e-01,   1.56230000e+02],\n",
       "       [  1.12000000e+00,   1.79950000e+02],\n",
       "       [  1.28000000e+00,   2.03670000e+02],\n",
       "       [  1.44000000e+00,   2.27380000e+02],\n",
       "       [  1.60000000e+00,   2.51100000e+02],\n",
       "       [  1.76000000e+00,   2.74330000e+02],\n",
       "       [  1.92000000e+00,   2.98030000e+02],\n",
       "       [  2.08000000e+00,   3.21800000e+02],\n",
       "       [  2.24000000e+00,   3.45400000e+02],\n",
       "       [  2.40000000e+00,   3.69100000e+02],\n",
       "       [  2.56000000e+00,   3.92800000e+02],\n",
       "       [  2.72000000e+00,   4.16500000e+02],\n",
       "       [  2.88000000e+00,   4.39700000e+02],\n",
       "       [  3.04000000e+00,   4.63400000e+02],\n",
       "       [  3.20000000e+00,   4.87000000e+02],\n",
       "       [  3.36000000e+00,   5.10700000e+02],\n",
       "       [  3.52000000e+00,   5.34300000e+02],\n",
       "       [  3.68000000e+00,   5.58100000e+02],\n",
       "       [  3.84000000e+00,   5.81700000e+02],\n",
       "       [  4.00000000e+00,   6.05400000e+02],\n",
       "       [  4.16000000e+00,   6.28600000e+02],\n",
       "       [  4.32000000e+00,   6.52300000e+02],\n",
       "       [  4.48000000e+00,   6.76000000e+02],\n",
       "       [  4.64000000e+00,   6.99700000e+02],\n",
       "       [  4.80000000e+00,   7.23300000e+02],\n",
       "       [  4.96000000e+00,   7.47000000e+02],\n",
       "       [  5.12000000e+00,   7.70700000e+02],\n",
       "       [  5.28000000e+00,   7.94400000e+02],\n",
       "       [  5.44000000e+00,   8.17700000e+02],\n",
       "       [  5.60000000e+00,   8.41400000e+02],\n",
       "       [  5.76000000e+00,   8.65100000e+02],\n",
       "       [  5.92000000e+00,   8.88700000e+02],\n",
       "       [  6.08000000e+00,   9.12400000e+02],\n",
       "       [  6.24000000e+00,   9.36200000e+02],\n",
       "       [  6.40000000e+00,   9.59800000e+02],\n",
       "       [  6.56000000e+00,   9.83100000e+02],\n",
       "       [  6.72000000e+00,   1.00680000e+03],\n",
       "       [  6.88000000e+00,   1.03060000e+03],\n",
       "       [  7.04000000e+00,   1.05430000e+03],\n",
       "       [  7.20000000e+00,   1.07800000e+03],\n",
       "       [  7.36000000e+00,   1.10170000e+03],\n",
       "       [  7.52000000e+00,   1.12540000e+03],\n",
       "       [  7.68000000e+00,   1.14910000e+03],\n",
       "       [  7.84000000e+00,   1.17230000e+03]])"
      ]
     },
     "execution_count": 1,
     "metadata": {},
     "output_type": "execute_result"
    }
   ],
   "source": [
    "import matplotlib.pyplot as plt\n",
    "import numpy as nm\n",
    "import pandas\n",
    "%matplotlib inline\n",
    "df  = pandas.read_csv(\"Current to Field_01.txt\",\"\\t\")\n",
    "data = df.values\n",
    "data"
   ]
  },
  {
   "cell_type": "markdown",
   "metadata": {},
   "source": [
    "Get the x-axis and y-axis"
   ]
  },
  {
   "cell_type": "code",
   "execution_count": 2,
   "metadata": {
    "collapsed": true
   },
   "outputs": [],
   "source": [
    "x = []\n",
    "y = []\n",
    "for i in range(len(data)):\n",
    "    x.append(data[i][0])\n",
    "    y.append(data[i][1])"
   ]
  },
  {
   "cell_type": "markdown",
   "metadata": {},
   "source": [
    "show x data"
   ]
  },
  {
   "cell_type": "code",
   "execution_count": 3,
   "metadata": {},
   "outputs": [
    {
     "data": {
      "text/plain": [
       "[-8.0,\n",
       " -7.8399999999999999,\n",
       " -7.6799999999999997,\n",
       " -7.5199999999999996,\n",
       " -7.3600000000000003,\n",
       " -7.2000000000000002,\n",
       " -7.04,\n",
       " -6.8799999999999999,\n",
       " -6.7199999999999998,\n",
       " -6.5599999999999996,\n",
       " -6.4000000000000004,\n",
       " -6.2400000000000002,\n",
       " -6.0800000000000001,\n",
       " -5.9199999999999999,\n",
       " -5.7599999999999998,\n",
       " -5.5999999999999996,\n",
       " -5.4400000000000004,\n",
       " -5.2800000000000002,\n",
       " -5.1200000000000001,\n",
       " -4.96,\n",
       " -4.7999999999999998,\n",
       " -4.6399999999999997,\n",
       " -4.4800000000000004,\n",
       " -4.3200000000000003,\n",
       " -4.1600000000000001,\n",
       " -4.0,\n",
       " -3.8399999999999999,\n",
       " -3.6800000000000002,\n",
       " -3.52,\n",
       " -3.3599999999999999,\n",
       " -3.2000000000000002,\n",
       " -3.04,\n",
       " -2.8799999999999999,\n",
       " -2.7200000000000002,\n",
       " -2.5600000000000001,\n",
       " -2.3999999999999999,\n",
       " -2.2400000000000002,\n",
       " -2.0800000000000001,\n",
       " -1.9199999999999999,\n",
       " -1.76,\n",
       " -1.6000000000000001,\n",
       " -1.4399999999999999,\n",
       " -1.28,\n",
       " -1.1200000000000001,\n",
       " -0.95999999999999996,\n",
       " -0.80000000000000004,\n",
       " -0.64000000000000001,\n",
       " -0.47999999999999998,\n",
       " -0.32000000000000001,\n",
       " -0.16,\n",
       " 0.0,\n",
       " 0.16,\n",
       " 0.32000000000000001,\n",
       " 0.47999999999999998,\n",
       " 0.64000000000000001,\n",
       " 0.80000000000000004,\n",
       " 0.95999999999999996,\n",
       " 1.1200000000000001,\n",
       " 1.28,\n",
       " 1.4399999999999999,\n",
       " 1.6000000000000001,\n",
       " 1.76,\n",
       " 1.9199999999999999,\n",
       " 2.0800000000000001,\n",
       " 2.2400000000000002,\n",
       " 2.3999999999999999,\n",
       " 2.5600000000000001,\n",
       " 2.7200000000000002,\n",
       " 2.8799999999999999,\n",
       " 3.04,\n",
       " 3.2000000000000002,\n",
       " 3.3599999999999999,\n",
       " 3.52,\n",
       " 3.6800000000000002,\n",
       " 3.8399999999999999,\n",
       " 4.0,\n",
       " 4.1600000000000001,\n",
       " 4.3200000000000003,\n",
       " 4.4800000000000004,\n",
       " 4.6399999999999997,\n",
       " 4.7999999999999998,\n",
       " 4.96,\n",
       " 5.1200000000000001,\n",
       " 5.2800000000000002,\n",
       " 5.4400000000000004,\n",
       " 5.5999999999999996,\n",
       " 5.7599999999999998,\n",
       " 5.9199999999999999,\n",
       " 6.0800000000000001,\n",
       " 6.2400000000000002,\n",
       " 6.4000000000000004,\n",
       " 6.5599999999999996,\n",
       " 6.7199999999999998,\n",
       " 6.8799999999999999,\n",
       " 7.04,\n",
       " 7.2000000000000002,\n",
       " 7.3600000000000003,\n",
       " 7.5199999999999996,\n",
       " 7.6799999999999997,\n",
       " 7.8399999999999999]"
      ]
     },
     "execution_count": 3,
     "metadata": {},
     "output_type": "execute_result"
    }
   ],
   "source": [
    "x"
   ]
  },
  {
   "cell_type": "markdown",
   "metadata": {
    "collapsed": true
   },
   "source": [
    "You can also check y, too.  \n",
    "But, we don't print it here."
   ]
  },
  {
   "cell_type": "code",
   "execution_count": 4,
   "metadata": {},
   "outputs": [
    {
     "data": {
      "text/plain": [
       "<function matplotlib.pyplot.show>"
      ]
     },
     "execution_count": 4,
     "metadata": {},
     "output_type": "execute_result"
    },
    {
     "data": {
      "image/png": "[encoded data removed]",
      "text/plain": [
       "<matplotlib.figure.Figure at 0x20eeeb90320>"
      ]
     },
     "metadata": {},
     "output_type": "display_data"
    }
   ],
   "source": [
    "ax = plt.subplot(111)\n",
    "plt.plot(x,y,'-bo', markersize = 1, linewidth = 0.5)\n",
    "ax.set(xlabel='Current (A)', ylabel='Field (G)', title='Test')\n",
    "plt.tight_layout(pad=0.4, w_pad=0.5, h_pad=1.0)\n",
    "ax.grid()\n",
    "plt.show"
   ]
  },
  {
   "cell_type": "code",
   "execution_count": null,
   "metadata": {
    "collapsed": true
   },
   "outputs": [],
   "source": []
  }
 ],
 "metadata": {
  "kernelspec": {
   "display_name": "Python 3",
   "language": "python",
   "name": "python3"
  },
  "language_info": {
   "codemirror_mode": {
    "name": "ipython",
    "version": 3
   },
   "file_extension": ".py",
   "mimetype": "text/x-python",
   "name": "python",
   "nbconvert_exporter": "python",
   "pygments_lexer": "ipython3",
   "version": "3.6.3"
  }
 },
 "nbformat": 4,
 "nbformat_minor": 2
}
